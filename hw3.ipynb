{
  "nbformat": 4,
  "nbformat_minor": 0,
  "metadata": {
    "kernelspec": {
      "name": "python3",
      "display_name": "Python 3"
    },
    "colab": {
      "name": "hw3.ipynb",
      "provenance": [],
      "collapsed_sections": []
    },
    "accelerator": "GPU"
  },
  "cells": [
    {
      "cell_type": "markdown",
      "metadata": {
        "id": "2SZONlWq5AMR",
        "colab_type": "text"
      },
      "source": [
        "# Autoencoder"
      ]
    },
    {
      "cell_type": "markdown",
      "metadata": {
        "id": "61NK-BJi5AMT",
        "colab_type": "text"
      },
      "source": [
        "This model used two Con2D layers, 2 maxpooling layers, 1 flatten layer and 2 dense layers. The activation function is Relu."
      ]
    },
    {
      "cell_type": "code",
      "metadata": {
        "id": "KnZDVxJH5AMU",
        "colab_type": "code",
        "colab": {}
      },
      "source": [
        "import tensorflow.compat.v1 as tf\n",
        "tf.disable_v2_behavior()\n",
        "import keras\n",
        "import tensorflow as tf\n",
        "import numpy as np\n",
        "import pandas as pd\n",
        "import matplotlib.pyplot as plt\n",
        "from keras.models import Sequential, Model\n",
        "from keras.layers import GlobalMaxPooling1D, SimpleRNN, MaxPooling1D, Conv1D, Dropout, Concatenate, Reshape, Conv2D, Dense, Flatten, Activation, MaxPooling2D, Input, UpSampling2D, Embedding, SpatialDropout1D\n",
        "from keras.utils import np_utils\n",
        "from keras.optimizers import Adam\n",
        "from keras.datasets import mnist\n",
        "from keras.callbacks import TensorBoard, ModelCheckpoint, EarlyStopping\n",
        "from keras.models import Sequential\n",
        "from scipy import misc\n",
        "from keras.applications.vgg16 import VGG16\n",
        "from keras.preprocessing import image\n",
        "from keras.applications.vgg16 import preprocess_input, decode_predictions\n",
        "from keras.layers.advanced_activations import LeakyReLU\n",
        "from keras.preprocessing.text import Tokenizer\n",
        "from keras.preprocessing.sequence import pad_sequences\n",
        "from sklearn.model_selection import train_test_split\n",
        "from keras.layers.recurrent import LSTM"
      ],
      "execution_count": 0,
      "outputs": []
    },
    {
      "cell_type": "code",
      "metadata": {
        "id": "0p6h1ajR5AMY",
        "colab_type": "code",
        "colab": {}
      },
      "source": [
        "(x_train,y_train), (x_test,y_test) = mnist.load_data()"
      ],
      "execution_count": 0,
      "outputs": []
    },
    {
      "cell_type": "code",
      "metadata": {
        "id": "RHaS3ZXu5AMa",
        "colab_type": "code",
        "colab": {}
      },
      "source": [
        "#prepare the training and test data\n",
        "x_train = x_train.astype('float32') / 255.\n",
        "x_test = x_test.astype('float32') / 255.\n",
        "x_train = x_train.reshape(len(x_train), 28, 28, 1)\n",
        "x_test = x_test.reshape(len(x_test), 28, 28, 1)"
      ],
      "execution_count": 0,
      "outputs": []
    },
    {
      "cell_type": "code",
      "metadata": {
        "id": "AIBx_64J5AMc",
        "colab_type": "code",
        "colab": {
          "base_uri": "https://localhost:8080/",
          "height": 629
        },
        "outputId": "78a05a9f-f7a6-4d00-8d24-42ba1843397d"
      },
      "source": [
        "#construct encoder and decoder, and link encoder, encoder with model to build a complete autoencoder model\n",
        "input_img = Input(shape=(28,28,1))\n",
        "\n",
        "x = Conv2D(16, (3, 3), activation='relu', padding='same')(input_img)\n",
        "x = MaxPooling2D((2,2), padding='same')(x)\n",
        "x = Conv2D(8, (3, 3), activation='relu', padding='same')(x)\n",
        "x = MaxPooling2D((2,2), padding='same')(x)\n",
        "x = Conv2D(8, (3,3), activation='relu', padding='same')(x)\n",
        "# \"encoded\" is the encoded representation of the input\n",
        "encoded = MaxPooling2D((2,2), padding='same')(x)\n",
        "\n",
        "x = Conv2D(8, (3,3), activation='relu', padding='same')(encoded)\n",
        "x = UpSampling2D((2,2))(x)\n",
        "x = Conv2D(8, (3,3), activation='relu', padding='same')(x)\n",
        "x = UpSampling2D((2,2),)(x)\n",
        "x = Conv2D(16, (3,3), activation='relu')(x)\n",
        "x = UpSampling2D((2,2))(x)\n",
        "# \"decoded\" is the lossy reconstruction of the input\n",
        "decoded = Conv2D(1, (3,3), activation='sigmoid', padding='same')(x)\n",
        "\n",
        "\n",
        "\n",
        "# this model maps an input to its reconstruction\n",
        "autoencoder = Model(input_img, decoded)\n",
        "autoencoder.compile(loss='binary_crossentropy', optimizer='adam')\n",
        "autoencoder.summary()"
      ],
      "execution_count": 14,
      "outputs": [
        {
          "output_type": "stream",
          "text": [
            "Model: \"model_2\"\n",
            "_________________________________________________________________\n",
            "Layer (type)                 Output Shape              Param #   \n",
            "=================================================================\n",
            "input_2 (InputLayer)         (None, 28, 28, 1)         0         \n",
            "_________________________________________________________________\n",
            "conv2d_8 (Conv2D)            (None, 28, 28, 16)        160       \n",
            "_________________________________________________________________\n",
            "max_pooling2d_4 (MaxPooling2 (None, 14, 14, 16)        0         \n",
            "_________________________________________________________________\n",
            "conv2d_9 (Conv2D)            (None, 14, 14, 8)         1160      \n",
            "_________________________________________________________________\n",
            "max_pooling2d_5 (MaxPooling2 (None, 7, 7, 8)           0         \n",
            "_________________________________________________________________\n",
            "conv2d_10 (Conv2D)           (None, 7, 7, 8)           584       \n",
            "_________________________________________________________________\n",
            "max_pooling2d_6 (MaxPooling2 (None, 4, 4, 8)           0         \n",
            "_________________________________________________________________\n",
            "conv2d_11 (Conv2D)           (None, 4, 4, 8)           584       \n",
            "_________________________________________________________________\n",
            "up_sampling2d_4 (UpSampling2 (None, 8, 8, 8)           0         \n",
            "_________________________________________________________________\n",
            "conv2d_12 (Conv2D)           (None, 8, 8, 8)           584       \n",
            "_________________________________________________________________\n",
            "up_sampling2d_5 (UpSampling2 (None, 16, 16, 8)         0         \n",
            "_________________________________________________________________\n",
            "conv2d_13 (Conv2D)           (None, 14, 14, 16)        1168      \n",
            "_________________________________________________________________\n",
            "up_sampling2d_6 (UpSampling2 (None, 28, 28, 16)        0         \n",
            "_________________________________________________________________\n",
            "conv2d_14 (Conv2D)           (None, 28, 28, 1)         145       \n",
            "=================================================================\n",
            "Total params: 4,385\n",
            "Trainable params: 4,385\n",
            "Non-trainable params: 0\n",
            "_________________________________________________________________\n"
          ],
          "name": "stdout"
        }
      ]
    },
    {
      "cell_type": "code",
      "metadata": {
        "id": "3x2Re7mO5AMe",
        "colab_type": "code",
        "colab": {
          "base_uri": "https://localhost:8080/",
          "height": 221
        },
        "outputId": "dd90d154-01bf-4c72-848f-ded7802810ef"
      },
      "source": [
        "autoencoder.fit(x_train, x_train, batch_size=100, epochs=5, shuffle=True,validation_data=(x_test, x_test),\n",
        "                callbacks=[TensorBoard(log_dir='/tmp/autoencoder')])\n"
      ],
      "execution_count": 15,
      "outputs": [
        {
          "output_type": "stream",
          "text": [
            "Train on 60000 samples, validate on 10000 samples\n",
            "Epoch 1/5\n",
            "60000/60000 [==============================] - 9s 150us/step - loss: 0.1990 - val_loss: 0.1440\n",
            "Epoch 2/5\n",
            "60000/60000 [==============================] - 9s 144us/step - loss: 0.1346 - val_loss: 0.1251\n",
            "Epoch 3/5\n",
            "60000/60000 [==============================] - 9s 145us/step - loss: 0.1215 - val_loss: 0.1167\n",
            "Epoch 4/5\n",
            "60000/60000 [==============================] - 9s 147us/step - loss: 0.1149 - val_loss: 0.1115\n",
            "Epoch 5/5\n",
            "60000/60000 [==============================] - 9s 145us/step - loss: 0.1107 - val_loss: 0.1079\n"
          ],
          "name": "stdout"
        },
        {
          "output_type": "execute_result",
          "data": {
            "text/plain": [
              "<keras.callbacks.History at 0x7f63a35985f8>"
            ]
          },
          "metadata": {
            "tags": []
          },
          "execution_count": 15
        }
      ]
    },
    {
      "cell_type": "code",
      "metadata": {
        "id": "LsOA6ZHS5AMh",
        "colab_type": "code",
        "colab": {}
      },
      "source": [
        "decode_imgs = autoencoder.predict(x_test)"
      ],
      "execution_count": 0,
      "outputs": []
    },
    {
      "cell_type": "code",
      "metadata": {
        "id": "Sp-1EwSS5AMk",
        "colab_type": "code",
        "colab": {
          "base_uri": "https://localhost:8080/",
          "height": 248
        },
        "outputId": "e993cb35-a138-44d3-e4d1-d9a373a53c75"
      },
      "source": [
        "n = 10\n",
        "plt.figure(figsize=(20, 4))\n",
        "for i in range(1,n + 1):\n",
        "    # display original\n",
        "    ax = plt.subplot(2, n, i)\n",
        "    plt.imshow(x_test[i].reshape(28, 28))\n",
        "    plt.gray()\n",
        "    ax.get_xaxis().set_visible(False)\n",
        "    ax.get_yaxis().set_visible(False)\n",
        "\n",
        "    # display reconstruction\n",
        "    ax = plt.subplot(2, n, i + n)\n",
        "    plt.imshow(decode_imgs[i].reshape(28, 28))\n",
        "    plt.gray()\n",
        "    ax.get_xaxis().set_visible(False)\n",
        "    ax.get_yaxis().set_visible(False)\n",
        "plt.show()"
      ],
      "execution_count": 17,
      "outputs": [
        {
          "output_type": "display_data",
          "data": {
            "image/png": "[encoded data removed]",
            "text/plain": [
              "<Figure size 1440x288 with 20 Axes>"
            ]
          },
          "metadata": {
            "tags": []
          }
        }
      ]
    },
    {
      "cell_type": "markdown",
      "metadata": {
        "id": "hoV7bLX-5AMm",
        "colab_type": "text"
      },
      "source": [
        "# Image Classification"
      ]
    },
    {
      "cell_type": "markdown",
      "metadata": {
        "id": "uTNBq5gR5AMm",
        "colab_type": "text"
      },
      "source": [
        "## CNN"
      ]
    },
    {
      "cell_type": "markdown",
      "metadata": {
        "id": "unUfSIDz5AMn",
        "colab_type": "text"
      },
      "source": [
        "In this model, there are 11 layers in total, which is 2 Convolutional2D layer, 2 Maxpooling layer, 1 flatten layer and 2 dense layer.  \n",
        "the first convolution2D layer has 25 kernels with size (5,5), the size of stride is 1.   \n",
        "the next layer is the first maxpooling layer, it has kernel size of (2,2).  \n",
        "the next layer is the second convolutional layer which has 50 kernels of size (5,5).  \n"
      ]
    },
    {
      "cell_type": "code",
      "metadata": {
        "id": "t-jfFsT95AMo",
        "colab_type": "code",
        "colab": {
          "base_uri": "https://localhost:8080/",
          "height": 714
        },
        "outputId": "ae38e4d9-6210-455c-90b3-d3d0e6a749c7"
      },
      "source": [
        "(x_train, y_train), (x_test, y_test) = mnist.load_data()\n",
        "x_train = x_train.reshape(x_train.shape[0], 28, 28, 1)\n",
        "x_test = x_test.reshape(x_test.shape[0], 28, 28, 1)\n",
        "y_test = np_utils.to_categorical(y_test, 10)\n",
        "y_train = np_utils.to_categorical(y_train, 10)\n",
        "\n",
        "# design model\n",
        "model = Sequential()\n",
        "model.add(Conv2D(25, (5, 5), input_shape=(28, 28, 1)))\n",
        "model.add(MaxPooling2D(2, 2))\n",
        "model.add(Activation('relu'))\n",
        "model.add(Conv2D(50, (5, 5)))\n",
        "model.add(MaxPooling2D(2, 2))\n",
        "model.add(Activation('relu'))\n",
        "model.add(Flatten())\n",
        "model.add(Dense(50))\n",
        "model.add(Activation('relu'))\n",
        "model.add(Dense(10))\n",
        "model.add(Activation('softmax'))\n",
        "adam = Adam(lr=0.001)\n",
        "# compile model\n",
        "model.compile(optimizer=adam,loss='categorical_crossentropy',metrics=['accuracy'])\n",
        "model.summary()\n",
        "# training model\n",
        "model_training = model.fit(x_train, y_train, validation_data=(x_test, y_test), batch_size=100, epochs=5)"
      ],
      "execution_count": 18,
      "outputs": [
        {
          "output_type": "stream",
          "text": [
            "Model: \"sequential_1\"\n",
            "_________________________________________________________________\n",
            "Layer (type)                 Output Shape              Param #   \n",
            "=================================================================\n",
            "conv2d_15 (Conv2D)           (None, 24, 24, 25)        650       \n",
            "_________________________________________________________________\n",
            "max_pooling2d_7 (MaxPooling2 (None, 12, 12, 25)        0         \n",
            "_________________________________________________________________\n",
            "activation_1 (Activation)    (None, 12, 12, 25)        0         \n",
            "_________________________________________________________________\n",
            "conv2d_16 (Conv2D)           (None, 8, 8, 50)          31300     \n",
            "_________________________________________________________________\n",
            "max_pooling2d_8 (MaxPooling2 (None, 4, 4, 50)          0         \n",
            "_________________________________________________________________\n",
            "activation_2 (Activation)    (None, 4, 4, 50)          0         \n",
            "_________________________________________________________________\n",
            "flatten_1 (Flatten)          (None, 800)               0         \n",
            "_________________________________________________________________\n",
            "dense_1 (Dense)              (None, 50)                40050     \n",
            "_________________________________________________________________\n",
            "activation_3 (Activation)    (None, 50)                0         \n",
            "_________________________________________________________________\n",
            "dense_2 (Dense)              (None, 10)                510       \n",
            "_________________________________________________________________\n",
            "activation_4 (Activation)    (None, 10)                0         \n",
            "=================================================================\n",
            "Total params: 72,510\n",
            "Trainable params: 72,510\n",
            "Non-trainable params: 0\n",
            "_________________________________________________________________\n",
            "Train on 60000 samples, validate on 10000 samples\n",
            "Epoch 1/5\n",
            "60000/60000 [==============================] - 7s 114us/step - loss: 11.8925 - acc: 0.2610 - val_loss: 11.5352 - val_acc: 0.2839\n",
            "Epoch 2/5\n",
            "60000/60000 [==============================] - 6s 103us/step - loss: 1.5307 - acc: 0.8719 - val_loss: 0.0662 - val_acc: 0.9779\n",
            "Epoch 3/5\n",
            "60000/60000 [==============================] - 6s 102us/step - loss: 0.0551 - acc: 0.9833 - val_loss: 0.0558 - val_acc: 0.9832\n",
            "Epoch 4/5\n",
            "60000/60000 [==============================] - 6s 101us/step - loss: 0.0349 - acc: 0.9890 - val_loss: 0.0537 - val_acc: 0.9847\n",
            "Epoch 5/5\n",
            "60000/60000 [==============================] - 6s 100us/step - loss: 0.0282 - acc: 0.9911 - val_loss: 0.0610 - val_acc: 0.9841\n"
          ],
          "name": "stdout"
        }
      ]
    },
    {
      "cell_type": "code",
      "metadata": {
        "id": "Szt4YD8z5AM1",
        "colab_type": "code",
        "colab": {
          "base_uri": "https://localhost:8080/",
          "height": 315
        },
        "outputId": "8f8e6adb-3482-46a7-c785-27ad84a072ef"
      },
      "source": [
        "plt.plot(np.array(range(1,6)),np.array(model_training.history['acc']),label='training')\n",
        "plt.plot(range(1,6),model_training.history['val_acc'],label='test')\n",
        "plt.title('Training and validation accuracy')\n",
        "plt.legend(loc = 'upper left')\n",
        "plt.figure()"
      ],
      "execution_count": 21,
      "outputs": [
        {
          "output_type": "execute_result",
          "data": {
            "text/plain": [
              "<Figure size 432x288 with 0 Axes>"
            ]
          },
          "metadata": {
            "tags": []
          },
          "execution_count": 21
        },
        {
          "output_type": "display_data",
          "data": {
            "image/png": "[encoded data removed]",
            "text/plain": [
              "<Figure size 432x288 with 1 Axes>"
            ]
          },
          "metadata": {
            "tags": []
          }
        },
        {
          "output_type": "display_data",
          "data": {
            "text/plain": [
              "<Figure size 432x288 with 0 Axes>"
            ]
          },
          "metadata": {
            "tags": []
          }
        }
      ]
    },
    {
      "cell_type": "code",
      "metadata": {
        "id": "94fdrs-_5AM-",
        "colab_type": "code",
        "colab": {
          "base_uri": "https://localhost:8080/",
          "height": 315
        },
        "outputId": "4e6a6743-293c-4f74-e60f-1190182b8cb2"
      },
      "source": [
        "plt.plot(range(1,6),model_training.history[\"loss\"],label='training')\n",
        "plt.plot(range(1,6),model_training.history['val_loss'],label='test')\n",
        "plt.title('Training and validation accuracy')\n",
        "plt.legend(loc = 'upper left')\n",
        "plt.figure()"
      ],
      "execution_count": 22,
      "outputs": [
        {
          "output_type": "execute_result",
          "data": {
            "text/plain": [
              "<Figure size 432x288 with 0 Axes>"
            ]
          },
          "metadata": {
            "tags": []
          },
          "execution_count": 22
        },
        {
          "output_type": "display_data",
          "data": {
            "image/png": "[encoded data removed]",
            "text/plain": [
              "<Figure size 432x288 with 1 Axes>"
            ]
          },
          "metadata": {
            "tags": []
          }
        },
        {
          "output_type": "display_data",
          "data": {
            "text/plain": [
              "<Figure size 432x288 with 0 Axes>"
            ]
          },
          "metadata": {
            "tags": []
          }
        }
      ]
    },
    {
      "cell_type": "code",
      "metadata": {
        "id": "qqJaJaOR5ANB",
        "colab_type": "code",
        "colab": {
          "base_uri": "https://localhost:8080/",
          "height": 119
        },
        "outputId": "622560fd-72e7-4e8c-8a01-dda452fbfa46"
      },
      "source": [
        "# test model\n",
        "print('the performance on test set is:')\n",
        "print(model.evaluate(x_test, y_test, batch_size=100))\n",
        "print('the performance on training set is:')\n",
        "print(model.evaluate(x_train, y_train, batch_size=100))"
      ],
      "execution_count": 23,
      "outputs": [
        {
          "output_type": "stream",
          "text": [
            "the performance on test set is:\n",
            "10000/10000 [==============================] - 0s 35us/step\n",
            "[0.06096772678312846, 0.9841000074148178]\n",
            "the performance on training set is:\n",
            "60000/60000 [==============================] - 2s 35us/step\n",
            "[0.022160312537186352, 0.9923333402474721]\n"
          ],
          "name": "stdout"
        }
      ]
    },
    {
      "cell_type": "markdown",
      "metadata": {
        "id": "qSEFx0Wl5ANG",
        "colab_type": "text"
      },
      "source": [
        "## Transfer Learning "
      ]
    },
    {
      "cell_type": "code",
      "metadata": {
        "id": "e83A9hBI5ANG",
        "colab_type": "code",
        "colab": {}
      },
      "source": [
        "# preparing the train dataset\n",
        "from keras.datasets import fashion_mnist\n",
        "(X_train, Y_train), (X_test, Y_test) = fashion_mnist.load_data()\n",
        "\n",
        "X_train = np.stack([X_train] * 3, axis = -1 )\n",
        "X_test = np.stack([X_test] * 3, axis = -1 )\n",
        "Y_train = np_utils.to_categorical(Y_train, 10)\n",
        "Y_test = np_utils.to_categorical(Y_test, 10)\n",
        "\n",
        "# Resize the images 48*48 as required by VGG16\n",
        "from keras.preprocessing.image import img_to_array, array_to_img\n",
        "X_train = np.asarray([img_to_array(array_to_img(im, scale=False).resize((32,32))) for im in X_train])\n",
        "X_test = np.asarray([img_to_array(array_to_img(im, scale=False).resize((32,32))) for im in X_test])"
      ],
      "execution_count": 0,
      "outputs": []
    },
    {
      "cell_type": "code",
      "metadata": {
        "id": "_vw_yC4K5ANP",
        "colab_type": "code",
        "colab": {}
      },
      "source": [
        "# Normalise the data and change data type\n",
        "X_train = X_train / 255.\n",
        "X_test = X_test / 255.\n",
        "X_train = X_train.astype('float32')\n",
        "X_test = X_test.astype('float32')"
      ],
      "execution_count": 0,
      "outputs": []
    },
    {
      "cell_type": "code",
      "metadata": {
        "id": "NeW0rmLC5ANS",
        "colab_type": "code",
        "colab": {
          "base_uri": "https://localhost:8080/",
          "height": 34
        },
        "outputId": "a6e7160c-19a3-451c-9339-5a2852410450"
      },
      "source": [
        "X_train.shape,X_test.shape"
      ],
      "execution_count": 52,
      "outputs": [
        {
          "output_type": "execute_result",
          "data": {
            "text/plain": [
              "((60000, 32, 32, 3), (10000, 32, 32, 3))"
            ]
          },
          "metadata": {
            "tags": []
          },
          "execution_count": 52
        }
      ]
    },
    {
      "cell_type": "markdown",
      "metadata": {
        "id": "me0Isx-65ANV",
        "colab_type": "text"
      },
      "source": [
        "import the pre_trained model and discard the last layer, becasue the inbuilt last layer has 1000 neurons to get 1000 classification, in our dataset, we just need 10 classes, so we discard it in advance and add another dense layer which makes 10 classes. "
      ]
    },
    {
      "cell_type": "code",
      "metadata": {
        "id": "8LyJw3EH5ANW",
        "colab_type": "code",
        "colab": {}
      },
      "source": [
        "# Create base model of VGG16\n",
        "vgg16 = VGG16(weights='imagenet', include_top=False, input_shape = (32, 32, 3))"
      ],
      "execution_count": 0,
      "outputs": []
    },
    {
      "cell_type": "code",
      "metadata": {
        "id": "4FDIfJA75ANZ",
        "colab_type": "code",
        "colab": {}
      },
      "source": [
        "model1 = Sequential()\n",
        "model1.add(vgg16)\n",
        "model1.add(Dropout(0.25))\n",
        "model1.add(Flatten())\n",
        "model1.add(Dense(96, activation=\"relu\"))\n",
        "model1.add(Dropout(0.5))\n",
        "model1.add(Dense(10, activation=\"softmax\"))"
      ],
      "execution_count": 0,
      "outputs": []
    },
    {
      "cell_type": "code",
      "metadata": {
        "id": "aeLvm3PC5ANc",
        "colab_type": "code",
        "colab": {}
      },
      "source": [
        "model1.compile(loss='categorical_crossentropy', optimizer='adam', metrics=['accuracy'])"
      ],
      "execution_count": 0,
      "outputs": []
    },
    {
      "cell_type": "code",
      "metadata": {
        "id": "Q20TZbf55ANh",
        "colab_type": "code",
        "colab": {
          "base_uri": "https://localhost:8080/",
          "height": 374
        },
        "outputId": "307a2414-fa38-4215-ba4e-0e986c441933"
      },
      "source": [
        "model1_training = model1.fit(X_train, Y_train, epochs=10, validation_data=(X_test, Y_test), batch_size=64, verbose = 1)"
      ],
      "execution_count": 59,
      "outputs": [
        {
          "output_type": "stream",
          "text": [
            "Train on 60000 samples, validate on 10000 samples\n",
            "Epoch 1/10\n",
            "60000/60000 [==============================] - 98s 2ms/step - loss: 1.2030 - acc: 0.5189 - val_loss: 0.5261 - val_acc: 0.8075\n",
            "Epoch 2/10\n",
            "60000/60000 [==============================] - 94s 2ms/step - loss: 0.5219 - acc: 0.8271 - val_loss: 0.4216 - val_acc: 0.8582\n",
            "Epoch 3/10\n",
            "60000/60000 [==============================] - 94s 2ms/step - loss: 0.3979 - acc: 0.8694 - val_loss: 0.3526 - val_acc: 0.8775\n",
            "Epoch 4/10\n",
            "60000/60000 [==============================] - 94s 2ms/step - loss: 0.3333 - acc: 0.8906 - val_loss: 0.3356 - val_acc: 0.8877\n",
            "Epoch 5/10\n",
            "60000/60000 [==============================] - 94s 2ms/step - loss: 0.2964 - acc: 0.9028 - val_loss: 0.3068 - val_acc: 0.9028\n",
            "Epoch 6/10\n",
            "60000/60000 [==============================] - 94s 2ms/step - loss: 0.2831 - acc: 0.9090 - val_loss: 0.3006 - val_acc: 0.8988\n",
            "Epoch 7/10\n",
            "60000/60000 [==============================] - 94s 2ms/step - loss: 0.2549 - acc: 0.9167 - val_loss: 0.2866 - val_acc: 0.9031\n",
            "Epoch 8/10\n",
            "60000/60000 [==============================] - 94s 2ms/step - loss: 0.2399 - acc: 0.9207 - val_loss: 0.2613 - val_acc: 0.9066\n",
            "Epoch 9/10\n",
            "60000/60000 [==============================] - 94s 2ms/step - loss: 0.2294 - acc: 0.9252 - val_loss: 0.2796 - val_acc: 0.9097\n",
            "Epoch 10/10\n",
            "60000/60000 [==============================] - 94s 2ms/step - loss: 0.2290 - acc: 0.9279 - val_loss: 0.3027 - val_acc: 0.9089\n"
          ],
          "name": "stdout"
        }
      ]
    },
    {
      "cell_type": "code",
      "metadata": {
        "id": "p182uX_05ANq",
        "colab_type": "code",
        "colab": {
          "base_uri": "https://localhost:8080/",
          "height": 315
        },
        "outputId": "d350b5f1-46a9-4776-e225-f295c261576d"
      },
      "source": [
        "plt.plot(range(1,11),model1_training.history[\"acc\"],label='training')\n",
        "plt.plot(range(1,11),model1_training.history['val_acc'],label='test')\n",
        "plt.title('Training and validation accuracy')\n",
        "plt.legend(loc = 'lower right')\n",
        "plt.figure()\n"
      ],
      "execution_count": 61,
      "outputs": [
        {
          "output_type": "execute_result",
          "data": {
            "text/plain": [
              "<Figure size 432x288 with 0 Axes>"
            ]
          },
          "metadata": {
            "tags": []
          },
          "execution_count": 61
        },
        {
          "output_type": "display_data",
          "data": {
            "image/png": "[encoded data removed]",
            "text/plain": [
              "<Figure size 432x288 with 1 Axes>"
            ]
          },
          "metadata": {
            "tags": []
          }
        },
        {
          "output_type": "display_data",
          "data": {
            "text/plain": [
              "<Figure size 432x288 with 0 Axes>"
            ]
          },
          "metadata": {
            "tags": []
          }
        }
      ]
    },
    {
      "cell_type": "code",
      "metadata": {
        "id": "xZEgA-Nw5ANu",
        "colab_type": "code",
        "colab": {
          "base_uri": "https://localhost:8080/",
          "height": 315
        },
        "outputId": "56da4268-2263-468e-cb56-5c150fb706c1"
      },
      "source": [
        "plt.plot(range(1,11),model1_training.history[\"loss\"],label='training')\n",
        "plt.plot(range(1,11),model1_training.history['val_loss'],label='test')\n",
        "plt.title('Training and validation loss')\n",
        "plt.legend(loc = 'upper right')\n",
        "plt.figure()"
      ],
      "execution_count": 62,
      "outputs": [
        {
          "output_type": "execute_result",
          "data": {
            "text/plain": [
              "<Figure size 432x288 with 0 Axes>"
            ]
          },
          "metadata": {
            "tags": []
          },
          "execution_count": 62
        },
        {
          "output_type": "display_data",
          "data": {
            "image/png": "[encoded data removed]",
            "text/plain": [
              "<Figure size 432x288 with 1 Axes>"
            ]
          },
          "metadata": {
            "tags": []
          }
        },
        {
          "output_type": "display_data",
          "data": {
            "text/plain": [
              "<Figure size 432x288 with 0 Axes>"
            ]
          },
          "metadata": {
            "tags": []
          }
        }
      ]
    },
    {
      "cell_type": "code",
      "metadata": {
        "id": "p2XXfLDh5ANv",
        "colab_type": "code",
        "colab": {
          "base_uri": "https://localhost:8080/",
          "height": 119
        },
        "outputId": "75f80071-190f-4a33-bad8-469b9db39f36"
      },
      "source": [
        "# test model\n",
        "print('the performance on test set is:')\n",
        "print(model1.evaluate(X_test, Y_test, batch_size=100))\n",
        "print('the performance on training set is:')\n",
        "print(model1.evaluate(X_train, Y_train, batch_size=100))"
      ],
      "execution_count": 63,
      "outputs": [
        {
          "output_type": "stream",
          "text": [
            "the performance on test set is:\n",
            "10000/10000 [==============================] - 3s 340us/step\n",
            "[0.3026821402460337, 0.9089000010490418]\n",
            "the performance on training set is:\n",
            "60000/60000 [==============================] - 20s 327us/step\n",
            "[0.20156986371303598, 0.932050001223882]\n"
          ],
          "name": "stdout"
        }
      ]
    },
    {
      "cell_type": "markdown",
      "metadata": {
        "id": "Sik6eGcU5ANx",
        "colab_type": "text"
      },
      "source": [
        "# Text Classification"
      ]
    },
    {
      "cell_type": "markdown",
      "metadata": {
        "id": "b9AIi5vE5ANz",
        "colab_type": "text"
      },
      "source": [
        "## RNN"
      ]
    },
    {
      "cell_type": "code",
      "metadata": {
        "id": "GySGhev-FWyA",
        "colab_type": "code",
        "colab": {
          "resources": {
            "http://localhost:8080/nbextensions/google.colab/files.js": {
              "data": "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",
              "ok": true,
              "headers": [
                [
                  "content-type",
                  "application/javascript"
                ]
              ],
              "status": 200,
              "status_text": ""
            }
          },
          "base_uri": "https://localhost:8080/",
          "height": 71
        },
        "outputId": "7a6eca44-5a9e-41c4-f4e1-4e82d92feecb"
      },
      "source": [
        "from google.colab import files\n",
        "uploaded = files.upload()\n"
      ],
      "execution_count": 66,
      "outputs": [
        {
          "output_type": "display_data",
          "data": {
            "text/html": [
              "\n",
              "     <input type=\"file\" id=\"files-9b5e8c2f-c435-48c0-b69d-f9c547f06313\" name=\"files[]\" multiple disabled />\n",
              "     <output id=\"result-9b5e8c2f-c435-48c0-b69d-f9c547f06313\">\n",
              "      Upload widget is only available when the cell has been executed in the\n",
              "      current browser session. Please rerun this cell to enable.\n",
              "      </output>\n",
              "      <script src=\"/nbextensions/google.colab/files.js\"></script> "
            ],
            "text/plain": [
              "<IPython.core.display.HTML object>"
            ]
          },
          "metadata": {
            "tags": []
          }
        },
        {
          "output_type": "stream",
          "text": [
            "Saving tweets_with_labels.csv to tweets_with_labels (1).csv\n"
          ],
          "name": "stdout"
        }
      ]
    },
    {
      "cell_type": "code",
      "metadata": {
        "id": "9JJ7i76CG0Fi",
        "colab_type": "code",
        "colab": {}
      },
      "source": [
        "import pandas as pd\n",
        "import io\n",
        "tweet = io.BytesIO(uploaded['tweets_with_labels.csv']) \n",
        "df = pd.read_csv(tweet,delimiter='\\t')"
      ],
      "execution_count": 0,
      "outputs": []
    },
    {
      "cell_type": "code",
      "metadata": {
        "id": "mPF2PR19G3TX",
        "colab_type": "code",
        "colab": {
          "base_uri": "https://localhost:8080/",
          "height": 204
        },
        "outputId": "b8633bc7-31c2-44ab-baae-6fe33319dc38"
      },
      "source": [
        "df.head()"
      ],
      "execution_count": 68,
      "outputs": [
        {
          "output_type": "execute_result",
          "data": {
            "text/html": [
              "<div>\n",
              "<style scoped>\n",
              "    .dataframe tbody tr th:only-of-type {\n",
              "        vertical-align: middle;\n",
              "    }\n",
              "\n",
              "    .dataframe tbody tr th {\n",
              "        vertical-align: top;\n",
              "    }\n",
              "\n",
              "    .dataframe thead th {\n",
              "        text-align: right;\n",
              "    }\n",
              "</style>\n",
              "<table border=\"1\" class=\"dataframe\">\n",
              "  <thead>\n",
              "    <tr style=\"text-align: right;\">\n",
              "      <th></th>\n",
              "      <th>id</th>\n",
              "      <th>tweet</th>\n",
              "      <th>k1</th>\n",
              "      <th>k2</th>\n",
              "      <th>k3</th>\n",
              "      <th>k4</th>\n",
              "      <th>k5</th>\n",
              "      <th>k6</th>\n",
              "      <th>k7</th>\n",
              "      <th>k8</th>\n",
              "      <th>k9</th>\n",
              "      <th>k10</th>\n",
              "      <th>k11</th>\n",
              "      <th>k12</th>\n",
              "      <th>k13</th>\n",
              "      <th>k14</th>\n",
              "      <th>k15</th>\n",
              "    </tr>\n",
              "  </thead>\n",
              "  <tbody>\n",
              "    <tr>\n",
              "      <th>0</th>\n",
              "      <td>1</td>\n",
              "      <td>Jazz for a Rainy Afternoon:  {link}</td>\n",
              "      <td>0.0</td>\n",
              "      <td>0.0</td>\n",
              "      <td>0.0</td>\n",
              "      <td>0.0</td>\n",
              "      <td>0.0</td>\n",
              "      <td>0.0</td>\n",
              "      <td>0.000</td>\n",
              "      <td>0.0</td>\n",
              "      <td>0.000</td>\n",
              "      <td>1.0</td>\n",
              "      <td>0.0</td>\n",
              "      <td>0.0</td>\n",
              "      <td>0.000</td>\n",
              "      <td>0.0</td>\n",
              "      <td>0.0</td>\n",
              "    </tr>\n",
              "    <tr>\n",
              "      <th>1</th>\n",
              "      <td>2</td>\n",
              "      <td>RT: @mention: I love rainy days.</td>\n",
              "      <td>0.0</td>\n",
              "      <td>0.0</td>\n",
              "      <td>0.0</td>\n",
              "      <td>0.0</td>\n",
              "      <td>0.0</td>\n",
              "      <td>0.0</td>\n",
              "      <td>0.000</td>\n",
              "      <td>0.0</td>\n",
              "      <td>0.000</td>\n",
              "      <td>1.0</td>\n",
              "      <td>0.0</td>\n",
              "      <td>0.0</td>\n",
              "      <td>0.000</td>\n",
              "      <td>0.0</td>\n",
              "      <td>0.0</td>\n",
              "    </tr>\n",
              "    <tr>\n",
              "      <th>2</th>\n",
              "      <td>3</td>\n",
              "      <td>Good Morning Chicago! Time to kick the Windy C...</td>\n",
              "      <td>0.0</td>\n",
              "      <td>0.0</td>\n",
              "      <td>0.0</td>\n",
              "      <td>0.0</td>\n",
              "      <td>0.0</td>\n",
              "      <td>0.0</td>\n",
              "      <td>1.000</td>\n",
              "      <td>0.0</td>\n",
              "      <td>0.000</td>\n",
              "      <td>0.0</td>\n",
              "      <td>0.0</td>\n",
              "      <td>0.0</td>\n",
              "      <td>0.000</td>\n",
              "      <td>0.0</td>\n",
              "      <td>0.0</td>\n",
              "    </tr>\n",
              "    <tr>\n",
              "      <th>3</th>\n",
              "      <td>6</td>\n",
              "      <td>Preach lol! :) RT @mention: #alliwantis this t...</td>\n",
              "      <td>0.0</td>\n",
              "      <td>0.0</td>\n",
              "      <td>0.0</td>\n",
              "      <td>0.0</td>\n",
              "      <td>0.0</td>\n",
              "      <td>0.0</td>\n",
              "      <td>0.604</td>\n",
              "      <td>0.0</td>\n",
              "      <td>0.196</td>\n",
              "      <td>0.0</td>\n",
              "      <td>0.0</td>\n",
              "      <td>0.0</td>\n",
              "      <td>0.201</td>\n",
              "      <td>0.0</td>\n",
              "      <td>0.0</td>\n",
              "    </tr>\n",
              "    <tr>\n",
              "      <th>4</th>\n",
              "      <td>9</td>\n",
              "      <td>@mention good morning sunshine</td>\n",
              "      <td>0.0</td>\n",
              "      <td>0.0</td>\n",
              "      <td>0.0</td>\n",
              "      <td>0.0</td>\n",
              "      <td>0.0</td>\n",
              "      <td>0.0</td>\n",
              "      <td>0.000</td>\n",
              "      <td>0.0</td>\n",
              "      <td>0.000</td>\n",
              "      <td>0.0</td>\n",
              "      <td>0.0</td>\n",
              "      <td>0.0</td>\n",
              "      <td>1.000</td>\n",
              "      <td>0.0</td>\n",
              "      <td>0.0</td>\n",
              "    </tr>\n",
              "  </tbody>\n",
              "</table>\n",
              "</div>"
            ],
            "text/plain": [
              "   id                                              tweet   k1  ...    k13  k14  k15\n",
              "0   1                Jazz for a Rainy Afternoon:  {link}  0.0  ...  0.000  0.0  0.0\n",
              "1   2                   RT: @mention: I love rainy days.  0.0  ...  0.000  0.0  0.0\n",
              "2   3  Good Morning Chicago! Time to kick the Windy C...  0.0  ...  0.000  0.0  0.0\n",
              "3   6  Preach lol! :) RT @mention: #alliwantis this t...  0.0  ...  0.201  0.0  0.0\n",
              "4   9                     @mention good morning sunshine  0.0  ...  1.000  0.0  0.0\n",
              "\n",
              "[5 rows x 17 columns]"
            ]
          },
          "metadata": {
            "tags": []
          },
          "execution_count": 68
        }
      ]
    },
    {
      "cell_type": "code",
      "metadata": {
        "id": "g1cxk1QB5AN7",
        "colab_type": "code",
        "colab": {}
      },
      "source": [
        "from gensim.corpora import Dictionary\n",
        "#tokenizer the text\n",
        "tweet = list(df['tweet'].map(lambda x:list(x)))\n",
        "dct = Dictionary(tweet)\n",
        "X = list(df['tweet'].map(lambda x: dct.doc2idx(list(x))))\n",
        "y = df.loc[:,'k1':'k15']\n"
      ],
      "execution_count": 0,
      "outputs": []
    },
    {
      "cell_type": "code",
      "metadata": {
        "id": "vjADeIlcITO7",
        "colab_type": "code",
        "colab": {}
      },
      "source": [
        "#pad the tokenized text\n",
        "maxlen = 50\n",
        "max_features = 15\n",
        "\n",
        "X_train, X_test, y_train, y_test = train_test_split(X, y, test_size=0.3, random_state=1)\n",
        "X_train = pad_sequences(X_train, maxlen, padding=\"post\", truncating=\"post\")\n",
        "X_test = pad_sequences(X_test, maxlen, padding=\"post\", truncating=\"post\")"
      ],
      "execution_count": 0,
      "outputs": []
    },
    {
      "cell_type": "code",
      "metadata": {
        "id": "DBnV2Nqr5AOT",
        "colab_type": "code",
        "colab": {}
      },
      "source": [
        "model = Sequential()\n",
        "model.add(Embedding(max_features, 64))\n",
        "model.add(SimpleRNN(32))\n",
        "model.add(Dense(15, activation='softmax'))\n",
        "model.compile(optimizer=\"adam\", loss=\"categorical_crossentropy\", metrics=[\"acc\"])"
      ],
      "execution_count": 0,
      "outputs": []
    },
    {
      "cell_type": "code",
      "metadata": {
        "id": "yJktjyW4I_jS",
        "colab_type": "code",
        "colab": {
          "base_uri": "https://localhost:8080/",
          "height": 1000
        },
        "outputId": "f94ea9ff-c130-47bd-edff-1d6e6d7e7a1d"
      },
      "source": [
        "history = model.fit(X_train, y_train, epochs=50, batch_size=100, validation_data=(X_test, y_test))"
      ],
      "execution_count": 110,
      "outputs": [
        {
          "output_type": "stream",
          "text": [
            "Train on 54562 samples, validate on 23384 samples\n",
            "Epoch 1/50\n",
            "54562/54562 [==============================] - 18s 325us/step - loss: 2.6648 - acc: 0.2845 - val_loss: 2.5977 - val_acc: 0.2991\n",
            "Epoch 2/50\n",
            "54562/54562 [==============================] - 16s 294us/step - loss: 2.5927 - acc: 0.2975 - val_loss: 2.6161 - val_acc: 0.2462\n",
            "Epoch 3/50\n",
            "54562/54562 [==============================] - 16s 294us/step - loss: 2.5842 - acc: 0.3022 - val_loss: 2.5875 - val_acc: 0.2992\n",
            "Epoch 4/50\n",
            "54562/54562 [==============================] - 16s 290us/step - loss: 2.5888 - acc: 0.2980 - val_loss: 2.5376 - val_acc: 0.3048\n",
            "Epoch 5/50\n",
            "54562/54562 [==============================] - 16s 291us/step - loss: 2.5865 - acc: 0.2961 - val_loss: 2.5802 - val_acc: 0.2976\n",
            "Epoch 6/50\n",
            "54562/54562 [==============================] - 16s 293us/step - loss: 2.5953 - acc: 0.2947 - val_loss: 2.5851 - val_acc: 0.3032\n",
            "Epoch 7/50\n",
            "54562/54562 [==============================] - 16s 294us/step - loss: 2.5907 - acc: 0.2971 - val_loss: 2.5863 - val_acc: 0.2908\n",
            "Epoch 8/50\n",
            "54562/54562 [==============================] - 16s 292us/step - loss: 2.5836 - acc: 0.2959 - val_loss: 2.5753 - val_acc: 0.3034\n",
            "Epoch 9/50\n",
            "54562/54562 [==============================] - 16s 289us/step - loss: 2.5862 - acc: 0.2991 - val_loss: 2.5913 - val_acc: 0.2996\n",
            "Epoch 10/50\n",
            "54562/54562 [==============================] - 16s 293us/step - loss: 2.6076 - acc: 0.2913 - val_loss: 2.6771 - val_acc: 0.2834\n",
            "Epoch 11/50\n",
            "54562/54562 [==============================] - 16s 291us/step - loss: 2.6332 - acc: 0.2910 - val_loss: 2.6035 - val_acc: 0.3022\n",
            "Epoch 12/50\n",
            "54562/54562 [==============================] - 16s 293us/step - loss: 2.5958 - acc: 0.2954 - val_loss: 2.5887 - val_acc: 0.2981\n",
            "Epoch 13/50\n",
            "54562/54562 [==============================] - 16s 297us/step - loss: 2.5918 - acc: 0.2954 - val_loss: 2.5883 - val_acc: 0.3008\n",
            "Epoch 14/50\n",
            "54562/54562 [==============================] - 16s 295us/step - loss: 2.5888 - acc: 0.2972 - val_loss: 2.5808 - val_acc: 0.3014\n",
            "Epoch 15/50\n",
            "54562/54562 [==============================] - 16s 291us/step - loss: 2.5839 - acc: 0.2990 - val_loss: 2.5767 - val_acc: 0.3013\n",
            "Epoch 16/50\n",
            "54562/54562 [==============================] - 16s 292us/step - loss: 2.5856 - acc: 0.2994 - val_loss: 2.5935 - val_acc: 0.3071\n",
            "Epoch 17/50\n",
            "54562/54562 [==============================] - 16s 290us/step - loss: 2.5694 - acc: 0.3041 - val_loss: 2.5753 - val_acc: 0.3103\n",
            "Epoch 18/50\n",
            "54562/54562 [==============================] - 16s 288us/step - loss: 2.5836 - acc: 0.2964 - val_loss: 2.7592 - val_acc: 0.2087\n",
            "Epoch 19/50\n",
            "54562/54562 [==============================] - 16s 289us/step - loss: 2.6022 - acc: 0.2928 - val_loss: 2.5819 - val_acc: 0.3014\n",
            "Epoch 20/50\n",
            "54562/54562 [==============================] - 16s 291us/step - loss: 2.5804 - acc: 0.3037 - val_loss: 2.5461 - val_acc: 0.3208\n",
            "Epoch 21/50\n",
            "54562/54562 [==============================] - 16s 290us/step - loss: 2.5570 - acc: 0.3201 - val_loss: 2.5906 - val_acc: 0.3004\n",
            "Epoch 22/50\n",
            "54562/54562 [==============================] - 16s 299us/step - loss: 2.5854 - acc: 0.2983 - val_loss: 2.5891 - val_acc: 0.3170\n",
            "Epoch 23/50\n",
            "54562/54562 [==============================] - 16s 298us/step - loss: 2.5758 - acc: 0.3081 - val_loss: 2.5851 - val_acc: 0.2985\n",
            "Epoch 24/50\n",
            "54562/54562 [==============================] - 16s 292us/step - loss: 2.5943 - acc: 0.2926 - val_loss: 2.5774 - val_acc: 0.2914\n",
            "Epoch 25/50\n",
            "54562/54562 [==============================] - 16s 292us/step - loss: 2.5744 - acc: 0.2936 - val_loss: 2.5714 - val_acc: 0.2911\n",
            "Epoch 26/50\n",
            "54562/54562 [==============================] - 16s 294us/step - loss: 2.5751 - acc: 0.3073 - val_loss: 2.9061 - val_acc: 0.1494\n",
            "Epoch 27/50\n",
            "54562/54562 [==============================] - 16s 292us/step - loss: 2.6358 - acc: 0.2866 - val_loss: 2.6116 - val_acc: 0.2958\n",
            "Epoch 28/50\n",
            "54562/54562 [==============================] - 16s 292us/step - loss: 2.6074 - acc: 0.2936 - val_loss: 2.5988 - val_acc: 0.3007\n",
            "Epoch 29/50\n",
            "54562/54562 [==============================] - 16s 291us/step - loss: 2.6062 - acc: 0.2967 - val_loss: 2.5861 - val_acc: 0.3047\n",
            "Epoch 30/50\n",
            "54562/54562 [==============================] - 16s 294us/step - loss: 2.5868 - acc: 0.2979 - val_loss: 2.5774 - val_acc: 0.3037\n",
            "Epoch 31/50\n",
            "54562/54562 [==============================] - 16s 290us/step - loss: 2.5942 - acc: 0.2971 - val_loss: 2.5926 - val_acc: 0.3019\n",
            "Epoch 32/50\n",
            "54562/54562 [==============================] - 16s 294us/step - loss: 2.5922 - acc: 0.2951 - val_loss: 2.5862 - val_acc: 0.2986\n",
            "Epoch 33/50\n",
            "54562/54562 [==============================] - 16s 298us/step - loss: 2.5844 - acc: 0.2963 - val_loss: 2.5787 - val_acc: 0.3033\n",
            "Epoch 34/50\n",
            "54562/54562 [==============================] - 16s 291us/step - loss: 2.5774 - acc: 0.3010 - val_loss: 2.5596 - val_acc: 0.3139\n",
            "Epoch 35/50\n",
            "54562/54562 [==============================] - 16s 293us/step - loss: 2.6144 - acc: 0.3002 - val_loss: 2.5964 - val_acc: 0.3111\n",
            "Epoch 36/50\n",
            "54562/54562 [==============================] - 16s 293us/step - loss: 2.5897 - acc: 0.2950 - val_loss: 2.5809 - val_acc: 0.3073\n",
            "Epoch 37/50\n",
            "54562/54562 [==============================] - 16s 294us/step - loss: 2.6001 - acc: 0.2957 - val_loss: 2.5548 - val_acc: 0.2978\n",
            "Epoch 38/50\n",
            "54562/54562 [==============================] - 16s 295us/step - loss: 2.5964 - acc: 0.2954 - val_loss: 2.5850 - val_acc: 0.3035\n",
            "Epoch 39/50\n",
            "54562/54562 [==============================] - 16s 293us/step - loss: 2.5821 - acc: 0.3017 - val_loss: 2.5971 - val_acc: 0.3005\n",
            "Epoch 40/50\n",
            "54562/54562 [==============================] - 16s 295us/step - loss: 2.6197 - acc: 0.2900 - val_loss: 2.6150 - val_acc: 0.2982\n",
            "Epoch 41/50\n",
            "54562/54562 [==============================] - 16s 299us/step - loss: 2.6046 - acc: 0.2943 - val_loss: 2.5838 - val_acc: 0.3023\n",
            "Epoch 42/50\n",
            "54562/54562 [==============================] - 16s 293us/step - loss: 2.5915 - acc: 0.2967 - val_loss: 2.5845 - val_acc: 0.3002\n",
            "Epoch 43/50\n",
            "54562/54562 [==============================] - 16s 291us/step - loss: 2.5868 - acc: 0.2977 - val_loss: 2.5811 - val_acc: 0.2993\n",
            "Epoch 44/50\n",
            "54562/54562 [==============================] - 16s 288us/step - loss: 2.5728 - acc: 0.3015 - val_loss: 2.5546 - val_acc: 0.3153\n",
            "Epoch 45/50\n",
            "54562/54562 [==============================] - 16s 293us/step - loss: 2.5613 - acc: 0.3164 - val_loss: 2.6117 - val_acc: 0.2712\n",
            "Epoch 46/50\n",
            "54562/54562 [==============================] - 16s 293us/step - loss: 2.5910 - acc: 0.2980 - val_loss: 2.5847 - val_acc: 0.3030\n",
            "Epoch 47/50\n",
            "54562/54562 [==============================] - 16s 292us/step - loss: 2.5727 - acc: 0.3115 - val_loss: 2.5787 - val_acc: 0.3032\n",
            "Epoch 48/50\n",
            "54562/54562 [==============================] - 16s 290us/step - loss: 2.5705 - acc: 0.3085 - val_loss: 2.5504 - val_acc: 0.3241\n",
            "Epoch 49/50\n",
            "54562/54562 [==============================] - 16s 291us/step - loss: 2.5853 - acc: 0.3028 - val_loss: 2.5839 - val_acc: 0.3003\n",
            "Epoch 50/50\n",
            "54562/54562 [==============================] - 16s 290us/step - loss: 2.5804 - acc: 0.3042 - val_loss: 2.5469 - val_acc: 0.3291\n"
          ],
          "name": "stdout"
        }
      ]
    },
    {
      "cell_type": "code",
      "metadata": {
        "id": "QVFSGOEv5AOW",
        "colab_type": "code",
        "colab": {
          "base_uri": "https://localhost:8080/",
          "height": 315
        },
        "outputId": "11259651-775c-406e-f512-b1cd8ba01586"
      },
      "source": [
        "plt.plot(range(1,51),history.history[\"acc\"],label='training')\n",
        "plt.plot(range(1,51),history.history['val_acc'],label='test')\n",
        "plt.title('Training and validation accuracy')\n",
        "plt.legend(loc = 'lower right')\n",
        "plt.figure()"
      ],
      "execution_count": 112,
      "outputs": [
        {
          "output_type": "execute_result",
          "data": {
            "text/plain": [
              "<Figure size 432x288 with 0 Axes>"
            ]
          },
          "metadata": {
            "tags": []
          },
          "execution_count": 112
        },
        {
          "output_type": "display_data",
          "data": {
            "image/png": "[encoded data removed]",
            "text/plain": [
              "<Figure size 432x288 with 1 Axes>"
            ]
          },
          "metadata": {
            "tags": []
          }
        },
        {
          "output_type": "display_data",
          "data": {
            "text/plain": [
              "<Figure size 432x288 with 0 Axes>"
            ]
          },
          "metadata": {
            "tags": []
          }
        }
      ]
    },
    {
      "cell_type": "code",
      "metadata": {
        "id": "DGbno74C5AOY",
        "colab_type": "code",
        "colab": {
          "base_uri": "https://localhost:8080/",
          "height": 315
        },
        "outputId": "ea9ce39a-421b-4a56-a917-d7672ac218be"
      },
      "source": [
        "plt.plot(range(1,51),history.history[\"loss\"],label='training')\n",
        "plt.plot(range(1,51),history.history['val_loss'],label='test')\n",
        "plt.title('Training and validation loss')\n",
        "plt.legend(loc = 'lower right')\n",
        "plt.figure()"
      ],
      "execution_count": 114,
      "outputs": [
        {
          "output_type": "execute_result",
          "data": {
            "text/plain": [
              "<Figure size 432x288 with 0 Axes>"
            ]
          },
          "metadata": {
            "tags": []
          },
          "execution_count": 114
        },
        {
          "output_type": "display_data",
          "data": {
            "image/png": "[encoded data removed]",
            "text/plain": [
              "<Figure size 432x288 with 1 Axes>"
            ]
          },
          "metadata": {
            "tags": []
          }
        },
        {
          "output_type": "display_data",
          "data": {
            "text/plain": [
              "<Figure size 432x288 with 0 Axes>"
            ]
          },
          "metadata": {
            "tags": []
          }
        }
      ]
    },
    {
      "cell_type": "code",
      "metadata": {
        "id": "TYQ62vct5AOa",
        "colab_type": "code",
        "colab": {
          "base_uri": "https://localhost:8080/",
          "height": 119
        },
        "outputId": "749cd278-7213-406f-fa40-6f0d42be2026"
      },
      "source": [
        "print('the performance on test set is:')\n",
        "print(model.evaluate(X_test, y_test, batch_size=100))\n",
        "print('the performance on training set is:')\n",
        "print(model.evaluate(X_train, y_train, batch_size=100))\n"
      ],
      "execution_count": 115,
      "outputs": [
        {
          "output_type": "stream",
          "text": [
            "the performance on test set is:\n",
            "23384/23384 [==============================] - 1s 62us/step\n",
            "[2.546897551069674, 0.32911392494276537]\n",
            "the performance on training set is:\n",
            "54562/54562 [==============================] - 3s 61us/step\n",
            "[2.5476443539188036, 0.3285620041110466]\n"
          ],
          "name": "stdout"
        }
      ]
    },
    {
      "cell_type": "markdown",
      "metadata": {
        "id": "aQGHziWw5AOd",
        "colab_type": "text"
      },
      "source": [
        "## CNN"
      ]
    },
    {
      "cell_type": "code",
      "metadata": {
        "id": "7q4eDVE_5AOe",
        "colab_type": "code",
        "colab": {
          "base_uri": "https://localhost:8080/",
          "height": 1000
        },
        "outputId": "8d318e3b-f85d-4130-ada5-0f7b70fd3d45"
      },
      "source": [
        "max_features = 15\n",
        "cnn = Sequential()\n",
        "cnn.add(Embedding(max_features, 64))\n",
        "cnn.add(Dropout(0.25))\n",
        "cnn.add(Conv1D(64, 5, activation='relu'))\n",
        "cnn.add(GlobalMaxPooling1D())\n",
        "cnn.add(Dense(15, activation='softmax'))\n",
        "cnn.compile(loss='categorical_crossentropy', optimizer='adam',  metrics=['accuracy'])\n",
        "\n",
        "cnn_training = cnn.fit(X_train, y_train, epochs=50, batch_size=256, validation_data=(X_test, y_test))"
      ],
      "execution_count": 102,
      "outputs": [
        {
          "output_type": "stream",
          "text": [
            "Train on 54562 samples, validate on 23384 samples\n",
            "Epoch 1/50\n",
            "54562/54562 [==============================] - 8s 138us/step - loss: 2.2596 - acc: 0.4955 - val_loss: 1.7877 - val_acc: 0.6605\n",
            "Epoch 2/50\n",
            "54562/54562 [==============================] - 6s 102us/step - loss: 1.6602 - acc: 0.6941 - val_loss: 1.5524 - val_acc: 0.7290\n",
            "Epoch 3/50\n",
            "54562/54562 [==============================] - 5s 100us/step - loss: 1.5248 - acc: 0.7323 - val_loss: 1.4714 - val_acc: 0.7461\n",
            "Epoch 4/50\n",
            "54562/54562 [==============================] - 6s 101us/step - loss: 1.4652 - acc: 0.7452 - val_loss: 1.4365 - val_acc: 0.7533\n",
            "Epoch 5/50\n",
            "54562/54562 [==============================] - 6s 101us/step - loss: 1.4341 - acc: 0.7522 - val_loss: 1.4206 - val_acc: 0.7565\n",
            "Epoch 6/50\n",
            "54562/54562 [==============================] - 5s 100us/step - loss: 1.4126 - acc: 0.7561 - val_loss: 1.3981 - val_acc: 0.7609\n",
            "Epoch 7/50\n",
            "54562/54562 [==============================] - 6s 101us/step - loss: 1.3991 - acc: 0.7589 - val_loss: 1.3855 - val_acc: 0.7680\n",
            "Epoch 8/50\n",
            "54562/54562 [==============================] - 6s 101us/step - loss: 1.3850 - acc: 0.7604 - val_loss: 1.3718 - val_acc: 0.7665\n",
            "Epoch 9/50\n",
            "54562/54562 [==============================] - 5s 100us/step - loss: 1.3752 - acc: 0.7601 - val_loss: 1.3692 - val_acc: 0.7675\n",
            "Epoch 10/50\n",
            "54562/54562 [==============================] - 5s 101us/step - loss: 1.3666 - acc: 0.7640 - val_loss: 1.3612 - val_acc: 0.7670\n",
            "Epoch 11/50\n",
            "54562/54562 [==============================] - 5s 101us/step - loss: 1.3615 - acc: 0.7648 - val_loss: 1.3651 - val_acc: 0.7654\n",
            "Epoch 12/50\n",
            "54562/54562 [==============================] - 5s 100us/step - loss: 1.3555 - acc: 0.7654 - val_loss: 1.3569 - val_acc: 0.7665\n",
            "Epoch 13/50\n",
            "54562/54562 [==============================] - 5s 101us/step - loss: 1.3501 - acc: 0.7657 - val_loss: 1.3418 - val_acc: 0.7693\n",
            "Epoch 14/50\n",
            "54562/54562 [==============================] - 6s 101us/step - loss: 1.3416 - acc: 0.7664 - val_loss: 1.3463 - val_acc: 0.7697\n",
            "Epoch 15/50\n",
            "54562/54562 [==============================] - 5s 101us/step - loss: 1.3391 - acc: 0.7656 - val_loss: 1.3355 - val_acc: 0.7692\n",
            "Epoch 16/50\n",
            "54562/54562 [==============================] - 6s 101us/step - loss: 1.3359 - acc: 0.7681 - val_loss: 1.3297 - val_acc: 0.7693\n",
            "Epoch 17/50\n",
            "54562/54562 [==============================] - 6s 101us/step - loss: 1.3306 - acc: 0.7695 - val_loss: 1.3259 - val_acc: 0.7731\n",
            "Epoch 18/50\n",
            "54562/54562 [==============================] - 6s 101us/step - loss: 1.3267 - acc: 0.7707 - val_loss: 1.3266 - val_acc: 0.7724\n",
            "Epoch 19/50\n",
            "54562/54562 [==============================] - 5s 101us/step - loss: 1.3214 - acc: 0.7694 - val_loss: 1.3236 - val_acc: 0.7727\n",
            "Epoch 20/50\n",
            "54562/54562 [==============================] - 6s 101us/step - loss: 1.3190 - acc: 0.7705 - val_loss: 1.3222 - val_acc: 0.7702\n",
            "Epoch 21/50\n",
            "54562/54562 [==============================] - 6s 102us/step - loss: 1.3164 - acc: 0.7702 - val_loss: 1.3130 - val_acc: 0.7750\n",
            "Epoch 22/50\n",
            "54562/54562 [==============================] - 6s 102us/step - loss: 1.3129 - acc: 0.7708 - val_loss: 1.3193 - val_acc: 0.7743\n",
            "Epoch 23/50\n",
            "54562/54562 [==============================] - 6s 102us/step - loss: 1.3110 - acc: 0.7724 - val_loss: 1.3148 - val_acc: 0.7742\n",
            "Epoch 24/50\n",
            "54562/54562 [==============================] - 6s 101us/step - loss: 1.3101 - acc: 0.7725 - val_loss: 1.3086 - val_acc: 0.7760\n",
            "Epoch 25/50\n",
            "54562/54562 [==============================] - 6s 101us/step - loss: 1.3055 - acc: 0.7714 - val_loss: 1.3069 - val_acc: 0.7743\n",
            "Epoch 26/50\n",
            "54562/54562 [==============================] - 5s 101us/step - loss: 1.3045 - acc: 0.7732 - val_loss: 1.3143 - val_acc: 0.7755\n",
            "Epoch 27/50\n",
            "54562/54562 [==============================] - 6s 101us/step - loss: 1.3029 - acc: 0.7729 - val_loss: 1.3084 - val_acc: 0.7760\n",
            "Epoch 28/50\n",
            "54562/54562 [==============================] - 6s 101us/step - loss: 1.3024 - acc: 0.7730 - val_loss: 1.2971 - val_acc: 0.7742\n",
            "Epoch 29/50\n",
            "54562/54562 [==============================] - 5s 100us/step - loss: 1.2998 - acc: 0.7733 - val_loss: 1.2970 - val_acc: 0.7766\n",
            "Epoch 30/50\n",
            "54562/54562 [==============================] - 6s 101us/step - loss: 1.2987 - acc: 0.7737 - val_loss: 1.2968 - val_acc: 0.7728\n",
            "Epoch 31/50\n",
            "54562/54562 [==============================] - 6s 102us/step - loss: 1.2959 - acc: 0.7745 - val_loss: 1.3004 - val_acc: 0.7774\n",
            "Epoch 32/50\n",
            "54562/54562 [==============================] - 5s 101us/step - loss: 1.2963 - acc: 0.7738 - val_loss: 1.2999 - val_acc: 0.7755\n",
            "Epoch 33/50\n",
            "54562/54562 [==============================] - 5s 101us/step - loss: 1.2924 - acc: 0.7745 - val_loss: 1.2919 - val_acc: 0.7774\n",
            "Epoch 34/50\n",
            "54562/54562 [==============================] - 5s 101us/step - loss: 1.2933 - acc: 0.7732 - val_loss: 1.2967 - val_acc: 0.7757\n",
            "Epoch 35/50\n",
            "54562/54562 [==============================] - 6s 101us/step - loss: 1.2904 - acc: 0.7751 - val_loss: 1.2914 - val_acc: 0.7754\n",
            "Epoch 36/50\n",
            "54562/54562 [==============================] - 5s 100us/step - loss: 1.2909 - acc: 0.7735 - val_loss: 1.3005 - val_acc: 0.7748\n",
            "Epoch 37/50\n",
            "54562/54562 [==============================] - 6s 101us/step - loss: 1.2896 - acc: 0.7758 - val_loss: 1.2981 - val_acc: 0.7782\n",
            "Epoch 38/50\n",
            "54562/54562 [==============================] - 6s 101us/step - loss: 1.2882 - acc: 0.7756 - val_loss: 1.2922 - val_acc: 0.7779\n",
            "Epoch 39/50\n",
            "54562/54562 [==============================] - 6s 102us/step - loss: 1.2876 - acc: 0.7743 - val_loss: 1.2912 - val_acc: 0.7781\n",
            "Epoch 40/50\n",
            "54562/54562 [==============================] - 5s 100us/step - loss: 1.2869 - acc: 0.7746 - val_loss: 1.2939 - val_acc: 0.7758\n",
            "Epoch 41/50\n",
            "54562/54562 [==============================] - 6s 101us/step - loss: 1.2854 - acc: 0.7753 - val_loss: 1.2961 - val_acc: 0.7767\n",
            "Epoch 42/50\n",
            "54562/54562 [==============================] - 5s 101us/step - loss: 1.2841 - acc: 0.7751 - val_loss: 1.3073 - val_acc: 0.7784\n",
            "Epoch 43/50\n",
            "54562/54562 [==============================] - 6s 101us/step - loss: 1.2834 - acc: 0.7767 - val_loss: 1.2906 - val_acc: 0.7781\n",
            "Epoch 44/50\n",
            "54562/54562 [==============================] - 6s 101us/step - loss: 1.2826 - acc: 0.7760 - val_loss: 1.2878 - val_acc: 0.7781\n",
            "Epoch 45/50\n",
            "54562/54562 [==============================] - 5s 101us/step - loss: 1.2819 - acc: 0.7770 - val_loss: 1.2856 - val_acc: 0.7805\n",
            "Epoch 46/50\n",
            "54562/54562 [==============================] - 6s 101us/step - loss: 1.2815 - acc: 0.7772 - val_loss: 1.2944 - val_acc: 0.7780\n",
            "Epoch 47/50\n",
            "54562/54562 [==============================] - 6s 101us/step - loss: 1.2795 - acc: 0.7768 - val_loss: 1.2891 - val_acc: 0.7775\n",
            "Epoch 48/50\n",
            "54562/54562 [==============================] - 6s 101us/step - loss: 1.2797 - acc: 0.7768 - val_loss: 1.2892 - val_acc: 0.7797\n",
            "Epoch 49/50\n",
            "54562/54562 [==============================] - 6s 101us/step - loss: 1.2787 - acc: 0.7771 - val_loss: 1.3005 - val_acc: 0.7791\n",
            "Epoch 50/50\n",
            "54562/54562 [==============================] - 6s 103us/step - loss: 1.2798 - acc: 0.7772 - val_loss: 1.3091 - val_acc: 0.7769\n"
          ],
          "name": "stdout"
        }
      ]
    },
    {
      "cell_type": "code",
      "metadata": {
        "id": "WJAEQEwfU_ML",
        "colab_type": "code",
        "colab": {
          "base_uri": "https://localhost:8080/",
          "height": 579
        },
        "outputId": "3c24bf60-1a67-4def-861d-c5e206f528b0"
      },
      "source": [
        "plt.plot(range(1,51),cnn_training.history[\"acc\"],label='training')\n",
        "plt.plot(range(1,51),cnn_training.history['val_acc'],label='test')\n",
        "plt.title('Training and validation accuracy')\n",
        "plt.legend(loc = 'lower right')\n",
        "plt.figure()\n",
        "\n",
        "plt.plot(range(1,51),cnn_training.history[\"loss\"],label='training')\n",
        "plt.plot(range(1,51),cnn_training.history['val_loss'],label='test')\n",
        "plt.title('Training and validation loss')\n",
        "plt.legend(loc = 'upper right')\n",
        "plt.figure()"
      ],
      "execution_count": 104,
      "outputs": [
        {
          "output_type": "execute_result",
          "data": {
            "text/plain": [
              "<Figure size 432x288 with 0 Axes>"
            ]
          },
          "metadata": {
            "tags": []
          },
          "execution_count": 104
        },
        {
          "output_type": "display_data",
          "data": {
            "image/png": "[encoded data removed]",
            "text/plain": [
              "<Figure size 432x288 with 1 Axes>"
            ]
          },
          "metadata": {
            "tags": []
          }
        },
        {
          "output_type": "display_data",
          "data": {
            "image/png": "[encoded data removed]",
            "text/plain": [
              "<Figure size 432x288 with 1 Axes>"
            ]
          },
          "metadata": {
            "tags": []
          }
        },
        {
          "output_type": "display_data",
          "data": {
            "text/plain": [
              "<Figure size 432x288 with 0 Axes>"
            ]
          },
          "metadata": {
            "tags": []
          }
        }
      ]
    },
    {
      "cell_type": "markdown",
      "metadata": {
        "id": "rkTSCi3gVQGn",
        "colab_type": "text"
      },
      "source": [
        "Compare RNN and CNN"
      ]
    },
    {
      "cell_type": "code",
      "metadata": {
        "id": "pr1YE_yHVSjz",
        "colab_type": "code",
        "colab": {
          "base_uri": "https://localhost:8080/",
          "height": 315
        },
        "outputId": "a6b7b436-779d-4a31-c416-260bc0d97343"
      },
      "source": [
        "plt.plot(range(1,51),history.history[\"acc\"],label='rnn training',color='b')\n",
        "plt.plot(range(1,51),history.history['val_acc'],label='rnn test',linestyle='dashed',color='b')\n",
        "plt.plot(range(1,51),cnn_training.history[\"acc\"],label='cnn training',color='orange')\n",
        "plt.plot(range(1,51),cnn_training.history['val_acc'],label='cnn test',linestyle='dashed',color='orange')\n",
        "plt.legend(loc = 'best')\n",
        "plt.title('RNN and CNN training and validation accuracy')\n",
        "plt.figure()"
      ],
      "execution_count": 117,
      "outputs": [
        {
          "output_type": "execute_result",
          "data": {
            "text/plain": [
              "<Figure size 432x288 with 0 Axes>"
            ]
          },
          "metadata": {
            "tags": []
          },
          "execution_count": 117
        },
        {
          "output_type": "display_data",
          "data": {
            "image/png": "[encoded data removed]",
            "text/plain": [
              "<Figure size 432x288 with 1 Axes>"
            ]
          },
          "metadata": {
            "tags": []
          }
        },
        {
          "output_type": "display_data",
          "data": {
            "text/plain": [
              "<Figure size 432x288 with 0 Axes>"
            ]
          },
          "metadata": {
            "tags": []
          }
        }
      ]
    },
    {
      "cell_type": "code",
      "metadata": {
        "id": "iKG299WkVD0c",
        "colab_type": "code",
        "colab": {
          "base_uri": "https://localhost:8080/",
          "height": 315
        },
        "outputId": "8eb02735-eb58-4938-f386-e03da1e04e25"
      },
      "source": [
        "plt.plot(range(1,51),history.history[\"loss\"],label='rnn training',color='b')\n",
        "plt.plot(range(1,51),history.history['val_loss'],label='rnn test',linestyle='dashed',color='b')\n",
        "plt.plot(range(1,51),cnn_training.history[\"loss\"],label='cnn training',color='orange')\n",
        "plt.plot(range(1,51),cnn_training.history['val_loss'],label='cnn test',linestyle='dashed',color='orange')\n",
        "plt.legend(loc = 'best')\n",
        "plt.title('RNN and CNN training and validation loss')\n",
        "plt.figure()"
      ],
      "execution_count": 120,
      "outputs": [
        {
          "output_type": "execute_result",
          "data": {
            "text/plain": [
              "<Figure size 432x288 with 0 Axes>"
            ]
          },
          "metadata": {
            "tags": []
          },
          "execution_count": 120
        },
        {
          "output_type": "display_data",
          "data": {
            "image/png": "[encoded data removed]",
            "text/plain": [
              "<Figure size 432x288 with 1 Axes>"
            ]
          },
          "metadata": {
            "tags": []
          }
        },
        {
          "output_type": "display_data",
          "data": {
            "text/plain": [
              "<Figure size 432x288 with 0 Axes>"
            ]
          },
          "metadata": {
            "tags": []
          }
        }
      ]
    }
  ]
}